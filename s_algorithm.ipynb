{
 "cells": [
  {
   "cell_type": "code",
   "execution_count": 3,
   "id": "51664c5d-6952-4037-ab3f-3ce41ac1f8a2",
   "metadata": {},
   "outputs": [
    {
     "name": "stdout",
     "output_type": "stream",
     "text": [
      "The most specific hypothesis for playing tennis is:\n",
      "['sunny', 'warm', '?', 'strong', '?', '?']\n"
     ]
    }
   ],
   "source": [
    "# Define features and target\n",
    "features = ['sky', 'air temp', 'humidity', 'wind', 'water', 'forecast']\n",
    "target = 'play tennis'\n",
    "\n",
    "# Sample data\n",
    "data = [\n",
    "    {'sky': 'sunny', 'air temp': 'warm', 'humidity': 'normal', 'wind': 'strong', 'water': 'warm', 'forecast': 'SAME', target: 'yes'},\n",
    "    {'sky': 'sunny', 'air temp': 'warm', 'humidity': 'high', 'wind': 'strong', 'water': 'warm', 'forecast': 'SAME', target: 'yes'},\n",
    "    {'sky': 'sunny', 'air temp': 'cold', 'humidity': 'high', 'wind': 'strong', 'water': 'warm', 'forecast': 'change', target: 'no'},\n",
    "    {'sky': 'sunny', 'air temp': 'warm', 'humidity': 'high', 'wind': 'strong', 'water': 'cold', 'forecast': 'change', target: 'yes'},\n",
    "]\n",
    "\n",
    "# Convert data to DataFrame\n",
    "df = pd.DataFrame(data)\n",
    "\n",
    "# Filter positive examples\n",
    "positive_examples = df[df[target] == 'yes']\n",
    "\n",
    "# Initialize hypothesis with the first positive example\n",
    "hypothesis = list(positive_examples.iloc[0][features])\n",
    "\n",
    "# Generalize hypothesis based on remaining positive examples\n",
    "for _, row in positive_examples.iterrows():\n",
    "    for i in range(len(features)):\n",
    "        if hypothesis[i] != row[features[i]]:\n",
    "            hypothesis[i] = '?'\n",
    "\n",
    "# Output the final hypothesis\n",
    "print(\"The most specific hypothesis for playing tennis is:\")\n",
    "print(hypothesis)\n"
   ]
  },
  {
   "cell_type": "code",
   "execution_count": 4,
   "id": "fab8406b-2e51-48e8-8a50-c7258e2e841e",
   "metadata": {},
   "outputs": [
    {
     "data": {
      "text/html": [
       "<div>\n",
       "<style scoped>\n",
       "    .dataframe tbody tr th:only-of-type {\n",
       "        vertical-align: middle;\n",
       "    }\n",
       "\n",
       "    .dataframe tbody tr th {\n",
       "        vertical-align: top;\n",
       "    }\n",
       "\n",
       "    .dataframe thead th {\n",
       "        text-align: right;\n",
       "    }\n",
       "</style>\n",
       "<table border=\"1\" class=\"dataframe\">\n",
       "  <thead>\n",
       "    <tr style=\"text-align: right;\">\n",
       "      <th></th>\n",
       "      <th>sky</th>\n",
       "      <th>air temp</th>\n",
       "      <th>humidity</th>\n",
       "      <th>wind</th>\n",
       "      <th>water</th>\n",
       "      <th>forecast</th>\n",
       "      <th>play tennis</th>\n",
       "    </tr>\n",
       "  </thead>\n",
       "  <tbody>\n",
       "    <tr>\n",
       "      <th>0</th>\n",
       "      <td>sunny</td>\n",
       "      <td>warm</td>\n",
       "      <td>normal</td>\n",
       "      <td>strong</td>\n",
       "      <td>warm</td>\n",
       "      <td>SAME</td>\n",
       "      <td>yes</td>\n",
       "    </tr>\n",
       "    <tr>\n",
       "      <th>1</th>\n",
       "      <td>sunny</td>\n",
       "      <td>warm</td>\n",
       "      <td>high</td>\n",
       "      <td>strong</td>\n",
       "      <td>warm</td>\n",
       "      <td>SAME</td>\n",
       "      <td>yes</td>\n",
       "    </tr>\n",
       "    <tr>\n",
       "      <th>2</th>\n",
       "      <td>sunny</td>\n",
       "      <td>cold</td>\n",
       "      <td>high</td>\n",
       "      <td>strong</td>\n",
       "      <td>warm</td>\n",
       "      <td>change</td>\n",
       "      <td>no</td>\n",
       "    </tr>\n",
       "    <tr>\n",
       "      <th>3</th>\n",
       "      <td>sunny</td>\n",
       "      <td>warm</td>\n",
       "      <td>high</td>\n",
       "      <td>strong</td>\n",
       "      <td>cold</td>\n",
       "      <td>change</td>\n",
       "      <td>yes</td>\n",
       "    </tr>\n",
       "  </tbody>\n",
       "</table>\n",
       "</div>"
      ],
      "text/plain": [
       "     sky air temp humidity    wind water forecast play tennis\n",
       "0  sunny     warm   normal  strong  warm     SAME         yes\n",
       "1  sunny     warm     high  strong  warm     SAME         yes\n",
       "2  sunny     cold     high  strong  warm   change          no\n",
       "3  sunny     warm     high  strong  cold   change         yes"
      ]
     },
     "execution_count": 4,
     "metadata": {},
     "output_type": "execute_result"
    }
   ],
   "source": [
    "df"
   ]
  },
  {
   "cell_type": "code",
   "execution_count": null,
   "id": "c149f29a-c721-4cab-9b68-cec42d8f37b2",
   "metadata": {},
   "outputs": [],
   "source": []
  }
 ],
 "metadata": {
  "kernelspec": {
   "display_name": "Python 3 (ipykernel)",
   "language": "python",
   "name": "python3"
  },
  "language_info": {
   "codemirror_mode": {
    "name": "ipython",
    "version": 3
   },
   "file_extension": ".py",
   "mimetype": "text/x-python",
   "name": "python",
   "nbconvert_exporter": "python",
   "pygments_lexer": "ipython3",
   "version": "3.12.4"
  }
 },
 "nbformat": 4,
 "nbformat_minor": 5
}
