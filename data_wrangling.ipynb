{
 "cells": [
  {
   "cell_type": "code",
   "execution_count": 1,
   "id": "007e2987-1ef0-4de9-bc59-d1c091aea612",
   "metadata": {},
   "outputs": [],
   "source": [
    "#Assume a set of data that need to be specifically used in the process of data wrangling by reading the training data from a csv file"
   ]
  },
  {
   "cell_type": "code",
   "execution_count": 2,
   "id": "ab434c57-992a-4c65-a14c-116c1a431fcd",
   "metadata": {},
   "outputs": [],
   "source": [
    "import pandas as pd\n",
    "import matplotlib.pylab as plt"
   ]
  },
  {
   "cell_type": "code",
   "execution_count": 3,
   "id": "6ee14106-e3cc-43ca-9c42-6defbafa8886",
   "metadata": {},
   "outputs": [],
   "source": [
    "filename = \"auto.csv \""
   ]
  },
  {
   "cell_type": "code",
   "execution_count": null,
   "id": "2ee23f7d-a7e7-4bd9-9055-6d62f2c37883",
   "metadata": {},
   "outputs": [],
   "source": [
    "headers = [\"symboling\",\"normalized losses\",\"make\",\"fuel-type\",\"aspiration\",\"num of doors\",\"body-style\",\n",
    "           \"drive-wheels\",\"engine-location \",\"wheel base\",\"length \",\"width\",\"height\",\"curb-weight\",\"engine-type\",\"num of cylinders\",\n",
    "           \"engine-size\",\"fuel-system\",\"bore\",\"stroke\",\"compression-ratio\",\"horsepower\",\"peak-rpm\"\n",
    "           \n",
    "           "
   ]
  }
 ],
 "metadata": {
  "kernelspec": {
   "display_name": "Python 3 (ipykernel)",
   "language": "python",
   "name": "python3"
  },
  "language_info": {
   "codemirror_mode": {
    "name": "ipython",
    "version": 3
   },
   "file_extension": ".py",
   "mimetype": "text/x-python",
   "name": "python",
   "nbconvert_exporter": "python",
   "pygments_lexer": "ipython3",
   "version": "3.12.4"
  }
 },
 "nbformat": 4,
 "nbformat_minor": 5
}
